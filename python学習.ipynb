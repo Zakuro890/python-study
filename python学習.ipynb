{
  "nbformat": 4,
  "nbformat_minor": 0,
  "metadata": {
    "colab": {
      "provenance": [],
      "authorship_tag": "ABX9TyMiQ4aOI8frtNhQmZL/N1vx",
      "include_colab_link": true
    },
    "kernelspec": {
      "name": "python3",
      "display_name": "Python 3"
    },
    "language_info": {
      "name": "python"
    }
  },
  "cells": [
    {
      "cell_type": "markdown",
      "metadata": {
        "id": "view-in-github",
        "colab_type": "text"
      },
      "source": [
        "<a href=\"https://colab.research.google.com/github/Zakuro890/python-study/blob/main/python%E5%AD%A6%E7%BF%92.ipynb\" target=\"_parent\"><img src=\"https://colab.research.google.com/assets/colab-badge.svg\" alt=\"Open In Colab\"/></a>"
      ]
    },
    {
      "cell_type": "code",
      "execution_count": null,
      "metadata": {
        "colab": {
          "base_uri": "https://localhost:8080/"
        },
        "id": "xSzO2H03v1bt",
        "outputId": "3692a963-a471-409f-df7d-ab4bd5c857b1"
      },
      "outputs": [
        {
          "output_type": "stream",
          "name": "stdout",
          "text": [
            "100\n"
          ]
        }
      ],
      "source": [
        "a = 100;\n",
        "print(a)"
      ]
    },
    {
      "cell_type": "code",
      "source": [
        "b = \"あいうえお\";\n",
        "c = \"かきくけこ\";\n",
        "print(b)"
      ],
      "metadata": {
        "colab": {
          "base_uri": "https://localhost:8080/"
        },
        "id": "UQkZUvV8yF2H",
        "outputId": "4f4bb888-56bc-422d-be2b-d857bc0e57ff"
      },
      "execution_count": null,
      "outputs": [
        {
          "output_type": "stream",
          "name": "stdout",
          "text": [
            "あいうえお\n"
          ]
        }
      ]
    },
    {
      "cell_type": "code",
      "source": [
        "print(c)"
      ],
      "metadata": {
        "colab": {
          "base_uri": "https://localhost:8080/"
        },
        "id": "KEAZxi4eyaLK",
        "outputId": "1aff633e-60dd-4289-e67e-ce3d2eae8662"
      },
      "execution_count": null,
      "outputs": [
        {
          "output_type": "stream",
          "name": "stdout",
          "text": [
            "かきくけこ\n"
          ]
        }
      ]
    },
    {
      "cell_type": "code",
      "source": [
        "32*0.301"
      ],
      "metadata": {
        "colab": {
          "base_uri": "https://localhost:8080/"
        },
        "id": "8SvcYOcIyyLf",
        "outputId": "d360a70a-4f5a-420c-a584-d3a126b49ce2"
      },
      "execution_count": null,
      "outputs": [
        {
          "output_type": "execute_result",
          "data": {
            "text/plain": [
              "9.632"
            ]
          },
          "metadata": {},
          "execution_count": 16
        }
      ]
    },
    {
      "cell_type": "code",
      "source": [
        "# 構造化定理\n",
        "# 順次・分岐・繰り返し\n",
        "\n",
        "# 分岐\n",
        "age = input('年齢を教えてください。')\n",
        "age =int(age) #文字列型を整数型に変換する\n",
        "if age < 20:\n",
        "    print('たばこ吸えません')\n",
        "else:\n",
        "    print(\"たばこは、ほどほどに\")"
      ],
      "metadata": {
        "colab": {
          "base_uri": "https://localhost:8080/"
        },
        "id": "ITNwKSk32J0B",
        "outputId": "a73c474b-c6f9-4089-9799-526421b81b56"
      },
      "execution_count": null,
      "outputs": [
        {
          "output_type": "stream",
          "name": "stdout",
          "text": [
            "年齢を教えてください。19\n",
            "たばこ吸えません\n"
          ]
        }
      ]
    },
    {
      "cell_type": "code",
      "source": [
        "\n",
        "# 分岐\n",
        "age = input('年齢を教えてください:')\n",
        "age =int(age) #文字列型を整数型に変換する\n",
        "if age >= 23:\n",
        "    print('大人ですね')\n",
        "elif age >= 19:\n",
        "    print(\"大学生ですね\")\n",
        "elif age >= 16:\n",
        "    print(\"高校生ですね\")\n",
        "elif age >= 13:\n",
        "    print(\"中学生ですね\");\n",
        "elif age >= 7:\n",
        "    print(\"小学生ですね\")\n",
        "else:\n",
        "    print(\"幼稚ですね\")"
      ],
      "metadata": {
        "colab": {
          "base_uri": "https://localhost:8080/"
        },
        "id": "JD4Xyrdw5CsQ",
        "outputId": "99df9711-8a57-4a2b-efd2-8fbd0bb2dd2d"
      },
      "execution_count": null,
      "outputs": [
        {
          "output_type": "stream",
          "name": "stdout",
          "text": [
            "年齢を教えてください:12\n",
            "小学生ですね\n"
          ]
        }
      ]
    },
    {
      "cell_type": "code",
      "source": [
        "# 繰り返し\n",
        "#for文\n",
        "for i in (1,2,'a','b','c',6,7,8,9,10):#タプルの繰り返し\n",
        "    print (i)\n"
      ],
      "metadata": {
        "colab": {
          "base_uri": "https://localhost:8080/"
        },
        "id": "S9yq4sU864DS",
        "outputId": "c7df2894-64ad-4f5d-bdbb-06408bf585ea"
      },
      "execution_count": null,
      "outputs": [
        {
          "output_type": "stream",
          "name": "stdout",
          "text": [
            "1\n",
            "2\n",
            "a\n",
            "b\n",
            "c\n",
            "6\n",
            "7\n",
            "8\n",
            "9\n",
            "10\n"
          ]
        }
      ]
    },
    {
      "cell_type": "code",
      "source": [
        "for i in[1,2,3,4,5]:#リストの繰り返し\n",
        "    print(i)"
      ],
      "metadata": {
        "colab": {
          "base_uri": "https://localhost:8080/"
        },
        "id": "CvWPhbODjDXQ",
        "outputId": "f8214784-8eca-4e6d-b106-5c4b6ecb1045"
      },
      "execution_count": null,
      "outputs": [
        {
          "output_type": "stream",
          "name": "stdout",
          "text": [
            "1\n",
            "2\n",
            "3\n",
            "4\n",
            "5\n"
          ]
        }
      ]
    },
    {
      "cell_type": "code",
      "source": [
        "for i in range(10):\n",
        "    print(i)"
      ],
      "metadata": {
        "colab": {
          "base_uri": "https://localhost:8080/"
        },
        "id": "ABV7bqAbkEh6",
        "outputId": "1ef40bea-a587-4d64-9615-d89a3eb261b2"
      },
      "execution_count": null,
      "outputs": [
        {
          "output_type": "stream",
          "name": "stdout",
          "text": [
            "0\n",
            "1\n",
            "2\n",
            "3\n",
            "4\n",
            "5\n",
            "6\n",
            "7\n",
            "8\n",
            "9\n"
          ]
        }
      ]
    },
    {
      "cell_type": "code",
      "source": [
        "for i in range(1,101,23):\n",
        "    print(i)"
      ],
      "metadata": {
        "colab": {
          "base_uri": "https://localhost:8080/"
        },
        "id": "kA32-Vx2kkay",
        "outputId": "0bf40adc-e129-4e31-8c13-860466787e49"
      },
      "execution_count": null,
      "outputs": [
        {
          "output_type": "stream",
          "name": "stdout",
          "text": [
            "1\n",
            "24\n",
            "47\n",
            "70\n",
            "93\n"
          ]
        }
      ]
    },
    {
      "cell_type": "code",
      "source": [
        "ls1 = [1,2,3,4,5,6]\n",
        "for i in ls1:\n",
        "    print(i)"
      ],
      "metadata": {
        "colab": {
          "base_uri": "https://localhost:8080/"
        },
        "id": "Wme3n3VilWYm",
        "outputId": "b8df1502-32f8-4bcb-96dd-d337f295b61b"
      },
      "execution_count": null,
      "outputs": [
        {
          "output_type": "stream",
          "name": "stdout",
          "text": [
            "1\n",
            "2\n",
            "3\n",
            "4\n",
            "5\n",
            "6\n"
          ]
        }
      ]
    },
    {
      "cell_type": "code",
      "source": [
        "i =0\n",
        "while i<10:\n",
        "    print(i)\n",
        "    i+=2"
      ],
      "metadata": {
        "colab": {
          "base_uri": "https://localhost:8080/"
        },
        "id": "B5qMKM_4l_-d",
        "outputId": "92c0f4e5-c3aa-4b08-be4f-c5ce1dc77ab7"
      },
      "execution_count": null,
      "outputs": [
        {
          "output_type": "stream",
          "name": "stdout",
          "text": [
            "0\n",
            "2\n",
            "4\n",
            "6\n",
            "8\n"
          ]
        }
      ]
    },
    {
      "cell_type": "markdown",
      "source": [
        "**P15 練習1-1**"
      ],
      "metadata": {
        "id": "McSS3WhXnF0d"
      }
    },
    {
      "cell_type": "code",
      "source": [
        "weight =input(\"体重を入力してください(kg):\")\n",
        "height =input(\"身長を入力してください(cm):\")\n",
        "weight = int(weight)#int表記にする\n",
        "height =int(height)/100 #cm表記をm表記にする,int表記にする\n",
        "bmi =weight/height/height#BMIの計算\n",
        "print(\"平均男性のBMI:23.8\")\n",
        "print(\"あなたのBMIは\",bmi)"
      ],
      "metadata": {
        "colab": {
          "base_uri": "https://localhost:8080/"
        },
        "id": "nlNW-qYamsFp",
        "outputId": "5860af2b-96ce-4e4d-cc44-ebfead7569d4"
      },
      "execution_count": null,
      "outputs": [
        {
          "output_type": "stream",
          "name": "stdout",
          "text": [
            "体重を入力してください(kg):67\n",
            "身長を入力してください(cm):189\n",
            "平均男性:23.8\n",
            "あなたのBMIは 18.75647378292881\n"
          ]
        }
      ]
    },
    {
      "cell_type": "markdown",
      "source": [
        "**リスト**"
      ],
      "metadata": {
        "id": "6egl9pvWpsH7"
      }
    },
    {
      "cell_type": "code",
      "source": [
        "# リスト(改変可能)\n",
        "ls =[1,2,3]\n",
        "#タプル(改変不可)\n",
        "tu =(1,2,3)#最後だけを表示\n",
        "ls.append(4)#lsに4を追加\n",
        "#タプルに追加（エラーになる）\n",
        "#tu.append(4)\n",
        "for i in ls:  #繰り返し\n",
        "    print(i)"
      ],
      "metadata": {
        "colab": {
          "base_uri": "https://localhost:8080/"
        },
        "id": "bY849zQaprf_",
        "outputId": "498bb24a-58ba-4703-c35a-2729efc768a1"
      },
      "execution_count": null,
      "outputs": [
        {
          "output_type": "stream",
          "name": "stdout",
          "text": [
            "1\n",
            "2\n",
            "3\n",
            "4\n"
          ]
        }
      ]
    },
    {
      "cell_type": "markdown",
      "source": [
        "***ディクショナリー***<br>\n",
        "※他の言語では連想配列やmapといいます\n"
      ],
      "metadata": {
        "id": "a_fr0yCMuHUz"
      }
    },
    {
      "cell_type": "code",
      "source": [
        "#ディクショナリー\n",
        "#[key :value]\n",
        "dic = {'ざくろ':'zakuro','りんご':['apple','椎名'],'みかん':'orange','ばなな':'banana'}\n",
        "dic['りんご']"
      ],
      "metadata": {
        "colab": {
          "base_uri": "https://localhost:8080/"
        },
        "id": "yfwdlTP3uG1U",
        "outputId": "b72c35f0-62a0-4d8a-fd64-9194fd97c46e"
      },
      "execution_count": null,
      "outputs": [
        {
          "output_type": "execute_result",
          "data": {
            "text/plain": [
              "['apple', '椎名']"
            ]
          },
          "metadata": {},
          "execution_count": 45
        }
      ]
    },
    {
      "cell_type": "markdown",
      "source": [
        "**セット(Set)**"
      ],
      "metadata": {
        "id": "tm_W-WXuwjm5"
      }
    },
    {
      "cell_type": "code",
      "source": [
        "se = {'a','b','c','a'}\n",
        "se"
      ],
      "metadata": {
        "colab": {
          "base_uri": "https://localhost:8080/"
        },
        "id": "9z7704i_rnr8",
        "outputId": "eefeba09-b0ad-47ad-f976-cad5678ebfaa"
      },
      "execution_count": null,
      "outputs": [
        {
          "output_type": "execute_result",
          "data": {
            "text/plain": [
              "{'a', 'b', 'c'}"
            ]
          },
          "metadata": {},
          "execution_count": 46
        }
      ]
    },
    {
      "cell_type": "markdown",
      "source": [
        "**P15 2-2**"
      ],
      "metadata": {
        "id": "xjyNJrwLx4c_"
      }
    },
    {
      "cell_type": "code",
      "source": [
        "ls =[]\n",
        "kokugo = input(\"国語の試験得点を入力してください:\")\n",
        "ls.append(int(kokugo))\n",
        "suugaku = input(\"数学の試験得点を入力してください:\")\n",
        "ls.append(int(suugaku))\n",
        "eigo = input(\"英語の試験得点を入力してください:\")\n",
        "ls.append(int(eigo))\n",
        "print(ls)\n",
        "print('合計点数',sum(ls))"
      ],
      "metadata": {
        "colab": {
          "base_uri": "https://localhost:8080/"
        },
        "id": "STocLng7x8el",
        "outputId": "4384b949-752f-4e21-f3f8-158d21d216b8"
      },
      "execution_count": null,
      "outputs": [
        {
          "output_type": "stream",
          "name": "stdout",
          "text": [
            "国語の試験得点を入力してください:43\n",
            "数学の試験得点を入力してください:54\n",
            "英語の試験得点を入力してください:342\n",
            "[43, 54, 342]\n",
            "合計点数 439\n"
          ]
        }
      ]
    },
    {
      "cell_type": "code",
      "source": [
        "#真偽値の特性(1)\n",
        "True + True + True\n",
        "#falseは0 trueは1 (2進数で表現される)"
      ],
      "metadata": {
        "colab": {
          "base_uri": "https://localhost:8080/"
        },
        "id": "aNJCBcpCNGrE",
        "outputId": "4716dc2b-24b3-4fc8-d185-57937855625a"
      },
      "execution_count": null,
      "outputs": [
        {
          "output_type": "execute_result",
          "data": {
            "text/plain": [
              "3"
            ]
          },
          "metadata": {},
          "execution_count": 6
        }
      ]
    },
    {
      "cell_type": "code",
      "source": [
        "#真偽値の特性(2)\n",
        "table =[True,False,True]\n",
        "sum(table)#合計を考える\n",
        "len(table)#個数を数える\n",
        "sum(table)/len(table)"
      ],
      "metadata": {
        "colab": {
          "base_uri": "https://localhost:8080/"
        },
        "id": "YAOgMdX3NyC-",
        "outputId": "00489aff-7e09-4f17-e7e0-7ee8d97b518a"
      },
      "execution_count": null,
      "outputs": [
        {
          "output_type": "execute_result",
          "data": {
            "text/plain": [
              "0.6666666666666666"
            ]
          },
          "metadata": {},
          "execution_count": 9
        }
      ]
    },
    {
      "cell_type": "markdown",
      "source": [
        "**P16 練習3-1**"
      ],
      "metadata": {
        "id": "LHCmeA2wL8Nj"
      }
    },
    {
      "cell_type": "code",
      "source": [
        "number =input(\"数値を入力してください:\")\n",
        "number =int(number)\n",
        "if number%2 == 0:\n",
        "    print(\"偶数\")\n",
        "else:\n",
        "    print(\"奇数\")"
      ],
      "metadata": {
        "colab": {
          "base_uri": "https://localhost:8080/"
        },
        "id": "S_kq0XgJLJiE",
        "outputId": "2d23cfa6-05a9-4de1-da62-d91ab43c0c31"
      },
      "execution_count": null,
      "outputs": [
        {
          "output_type": "stream",
          "name": "stdout",
          "text": [
            "数値を入力してください:17\n",
            "奇数\n"
          ]
        }
      ]
    },
    {
      "cell_type": "code",
      "source": [
        "text=input(\"\")\n",
        "if text ==\"こんにちは\":\n",
        "    print(\"ようこそ\")\n",
        "elif text ==\"景気は？\":\n",
        "    print(\"ぼちぼちです\")\n",
        "elif text==\"さようなら\":\n",
        "    print(\"お元気で!\")\n",
        "else\n",
        "    print(\"どうしました?\")"
      ],
      "metadata": {
        "colab": {
          "base_uri": "https://localhost:8080/",
          "height": 54
        },
        "id": "RB1dwH4gMDdP",
        "outputId": "39faa4bd-490c-4386-a05d-998887018200"
      },
      "execution_count": null,
      "outputs": [
        {
          "name": "stdout",
          "output_type": "stream",
          "text": [
            "入力してくださいこんにちは\n"
          ]
        },
        {
          "output_type": "execute_result",
          "data": {
            "text/plain": [
              "'ようこそ！'"
            ],
            "application/vnd.google.colaboratory.intrinsic+json": {
              "type": "string"
            }
          },
          "metadata": {},
          "execution_count": 5
        }
      ]
    },
    {
      "cell_type": "markdown",
      "source": [
        "**P16 練習4-1**"
      ],
      "metadata": {
        "id": "Q4-FZkmIOhlR"
      }
    },
    {
      "cell_type": "code",
      "source": [
        "for i in range(10,0,-1):\n",
        "    print(i,end=',')\n",
        "if i == 1:\n",
        "    print(\"Lift off!\")"
      ],
      "metadata": {
        "colab": {
          "base_uri": "https://localhost:8080/"
        },
        "id": "-JWIW0HgOnUw",
        "outputId": "e0334225-bfe0-4ad6-a314-a02437bb3a5b"
      },
      "execution_count": null,
      "outputs": [
        {
          "output_type": "stream",
          "name": "stdout",
          "text": [
            "10,9,8,7,6,5,4,3,2,1,Lift off!\n"
          ]
        }
      ]
    },
    {
      "cell_type": "code",
      "source": [
        "\"{}さん、{}!\".format(\"田中\",\"ガッデム\")"
      ],
      "metadata": {
        "colab": {
          "base_uri": "https://localhost:8080/",
          "height": 36
        },
        "id": "mSspG6XjXOrg",
        "outputId": "69433c86-41a7-4735-8351-3297c50cdb92"
      },
      "execution_count": null,
      "outputs": [
        {
          "output_type": "execute_result",
          "data": {
            "text/plain": [
              "'田中さん、ガッデム!'"
            ],
            "application/vnd.google.colaboratory.intrinsic+json": {
              "type": "string"
            }
          },
          "metadata": {},
          "execution_count": 35
        }
      ]
    },
    {
      "cell_type": "markdown",
      "source": [
        "**P17 練習4-2**<br>\n",
        "データ:71,67,73,61,79,59,83,87,72,79<br>\n",
        "手順1:scoreリストを作成<br>\n",
        "手順2:for文を利用して、上記のデータをscoresリストに格納<br>\n",
        "手順3:scoresリストの各要素に対して、次のデータ加工を行い、それぞれを新しいリストであるfinal_scoresリストに格納<br>\n",
        "加工後得点=0.8*試験得点+20<br>\n",
        "手順4:final_scoresの平均点を計算して表示する。"
      ],
      "metadata": {
        "id": "RoYvAu4GROsX"
      }
    },
    {
      "cell_type": "code",
      "source": [
        "score =[71, 67, 73, 61, 79, 59, 83, 87, 72, 79]\n",
        "# for i in range(10):\n",
        "#     score.append(int(input(\"数値を入力してください:\")))\n",
        "final_scores=[]\n",
        "for j in range(10):\n",
        "    final_scores.append(0.8*score[j]+20)\n",
        "print(\"平均点={}\".format(sum(final_scores)/len(final_scores)))"
      ],
      "metadata": {
        "colab": {
          "base_uri": "https://localhost:8080/"
        },
        "id": "RvSbP088UCum",
        "outputId": "a745a384-a339-4473-ca5a-4dca51386332"
      },
      "execution_count": null,
      "outputs": [
        {
          "output_type": "stream",
          "name": "stdout",
          "text": [
            "平均点=78.48\n"
          ]
        }
      ]
    },
    {
      "cell_type": "markdown",
      "source": [
        "別解答"
      ],
      "metadata": {
        "id": "PYuIewujtolr"
      }
    },
    {
      "cell_type": "code",
      "source": [
        "import statistics as st#statisticsは統計というもの\n",
        "st.mean(final_scores)"
      ],
      "metadata": {
        "colab": {
          "base_uri": "https://localhost:8080/"
        },
        "id": "dAIoc6GRtWyr",
        "outputId": "b1750dd2-042b-4074-a713-74ec7024a577"
      },
      "execution_count": null,
      "outputs": [
        {
          "output_type": "execute_result",
          "data": {
            "text/plain": [
              "78.48"
            ]
          },
          "metadata": {},
          "execution_count": 2
        }
      ]
    },
    {
      "cell_type": "markdown",
      "source": [
        "**P17 練習5-1 うるう年の関数化**"
      ],
      "metadata": {
        "id": "aKfD67XFsXbg"
      }
    },
    {
      "cell_type": "code",
      "source": [
        "#関数の基礎\n",
        "def Test(times,product):\n",
        "    return\"おはよう\"*times*product #指定された数の文字列を出力\n",
        "Test(3,4)"
      ],
      "metadata": {
        "id": "N6b5Q3z_ZHMJ",
        "colab": {
          "base_uri": "https://localhost:8080/",
          "height": 36
        },
        "outputId": "75c79880-d339-43d8-86b4-03bc76418e70"
      },
      "execution_count": null,
      "outputs": [
        {
          "output_type": "execute_result",
          "data": {
            "text/plain": [
              "'おはようおはようおはようおはようおはようおはようおはようおはようおはようおはようおはようおはよう'"
            ],
            "application/vnd.google.colaboratory.intrinsic+json": {
              "type": "string"
            }
          },
          "metadata": {},
          "execution_count": 11
        }
      ]
    },
    {
      "cell_type": "code",
      "source": [
        "#関数の基礎\n",
        "def Test(times,product):\n",
        "    return\"おはよう\"*times*product #指定された数の文字列を出力\n",
        "Test(3,int(input())) #入力された値分だけ出力"
      ],
      "metadata": {
        "colab": {
          "base_uri": "https://localhost:8080/",
          "height": 54
        },
        "outputId": "a0eabe9e-ab09-4d33-f6a9-46a30fd26c1c",
        "id": "A_K6uGlgwMPx"
      },
      "execution_count": null,
      "outputs": [
        {
          "name": "stdout",
          "output_type": "stream",
          "text": [
            "2\n"
          ]
        },
        {
          "output_type": "execute_result",
          "data": {
            "text/plain": [
              "'おはようおはようおはようおはようおはようおはよう'"
            ],
            "application/vnd.google.colaboratory.intrinsic+json": {
              "type": "string"
            }
          },
          "metadata": {},
          "execution_count": 15
        }
      ]
    },
    {
      "cell_type": "code",
      "source": [
        "#関数の基礎\n",
        "def Test(times=1,product=3): #ここで設定することも可能\n",
        "    return\"おはよう\"*times*product #指定された数の文字列を出力\n",
        "\n",
        "Test(product=1) #上で設定していたとしても、ここでの数が絶対"
      ],
      "metadata": {
        "colab": {
          "base_uri": "https://localhost:8080/",
          "height": 36
        },
        "outputId": "35725fcc-938c-41e0-f167-1dc1088c0919",
        "id": "iN5Bv_8swyEg"
      },
      "execution_count": null,
      "outputs": [
        {
          "output_type": "execute_result",
          "data": {
            "text/plain": [
              "'おはよう'"
            ],
            "application/vnd.google.colaboratory.intrinsic+json": {
              "type": "string"
            }
          },
          "metadata": {},
          "execution_count": 18
        }
      ]
    },
    {
      "cell_type": "code",
      "source": [
        "#関数の基礎(戻り値)\n",
        "def Test():\n",
        "    return 1,2,3,4\n",
        "\n",
        "a,b,c,_=Test()#変数を受け取りたい分用意する 必要な分だけほしいときは「 _ 」を使用する \n",
        "print(a,b,c)"
      ],
      "metadata": {
        "colab": {
          "base_uri": "https://localhost:8080/"
        },
        "id": "QmizonoXx72m",
        "outputId": "dff33d73-2c64-49cb-d812-509b58144e7e"
      },
      "execution_count": null,
      "outputs": [
        {
          "output_type": "stream",
          "name": "stdout",
          "text": [
            "1 2 3\n"
          ]
        }
      ]
    },
    {
      "cell_type": "code",
      "source": [
        "#関数の基礎(戻り値)\n",
        "def Test():\n",
        "    return 1,2,3,4\n",
        "\n",
        "a = Test()#変数を受け取りたい分用意する 必要な分だけほしいときは「 _ 」を使用する \n",
        "print(a)"
      ],
      "metadata": {
        "colab": {
          "base_uri": "https://localhost:8080/"
        },
        "outputId": "49b0cc25-10f6-42b0-dbd0-1a326ac1f041",
        "id": "iYLXobPSz0T6"
      },
      "execution_count": null,
      "outputs": [
        {
          "output_type": "stream",
          "name": "stdout",
          "text": [
            "(1, 2, 3, 4)\n"
          ]
        }
      ]
    },
    {
      "cell_type": "code",
      "source": [
        "#応用してBMIを求める\n",
        "def bmi(weight,height):\n",
        "    return weight/height/height\n",
        "a=bmi(weight=int(input(\"体重を入力してください(kg):\")),height =int(input(\"身長を入力してください(cm):\"))/100)\n",
        "print(\"平均男性のBMI:23.8\")\n",
        "print(\"あなたのBMIは\",a)"
      ],
      "metadata": {
        "colab": {
          "base_uri": "https://localhost:8080/"
        },
        "outputId": "ef54619b-b2e2-413a-8a8d-26183f32f309",
        "id": "9KUWDCaa0axS"
      },
      "execution_count": null,
      "outputs": [
        {
          "output_type": "stream",
          "name": "stdout",
          "text": [
            "体重を入力してください(kg):74\n",
            "身長を入力してください(cm):173\n",
            "平均男性のBMI:23.8\n",
            "あなたのBMIは 24.725182932941298\n"
          ]
        }
      ]
    },
    {
      "cell_type": "markdown",
      "source": [
        "**うるう年を求める**"
      ],
      "metadata": {
        "id": "hfbnVttB2j8L"
      }
    },
    {
      "cell_type": "code",
      "source": [
        "def year(num):\n",
        "    if num %4==0:\n",
        "        flag = True\n",
        "        if num%100==0:\n",
        "            flag = False\n",
        "            if num%400==0:\n",
        "                flag = True\n",
        "    else:\n",
        "        flag=False\n",
        "    return flag\n",
        "a = year(num=int(input(\"年を入力してください:\")))\n",
        "print(a)"
      ],
      "metadata": {
        "colab": {
          "base_uri": "https://localhost:8080/"
        },
        "id": "ldjGeQa62qFE",
        "outputId": "3bdd896c-ce9c-43c3-c600-b62609955cb6"
      },
      "execution_count": null,
      "outputs": [
        {
          "output_type": "stream",
          "name": "stdout",
          "text": [
            "年を入力してください:888888888888888888888888888888888888888888888888888888888888888888888888888\n",
            "True\n"
          ]
        }
      ]
    },
    {
      "cell_type": "code",
      "source": [
        "import MyModule.Myfunction  #myfunctionをインポートする\n",
        "\n",
        "print(MyModule.Myfunction.Func())\n",
        "\n",
        "import MyModule.Myfunction as my  #別名をつけて呼びやすくする\n",
        "\n",
        "print(my.Func())\n",
        "\n",
        "from MyModule.Myfunction import Func\n",
        "\n",
        "print(Func())\n",
        "\n",
        "import MyModule.A\n",
        "\n",
        "print(MyModule.A.Func())\n",
        "\n",
        "import MyModule.A as B\n",
        "\n",
        "print(B.Func())\n",
        "\n",
        "from MyModule.A import Func\n",
        "\n",
        "print(Func())"
      ],
      "metadata": {
        "id": "iGOERpXuxHr1"
      },
      "execution_count": null,
      "outputs": []
    },
    {
      "cell_type": "code",
      "source": [
        "#通常の書き方\n",
        "array =[]\n",
        "for i in range(1,11):\n",
        "    array.append(i ** 2)\n",
        "print(array)\n",
        "\n",
        "#内包表記\n",
        "array = [i ** 2 for i in range(1,11)]\n",
        "print(array)"
      ],
      "metadata": {
        "colab": {
          "base_uri": "https://localhost:8080/"
        },
        "id": "FzlpOMOTx5qf",
        "outputId": "47981a7f-325e-498c-ede8-8c882a174804"
      },
      "execution_count": null,
      "outputs": [
        {
          "output_type": "stream",
          "name": "stdout",
          "text": [
            "[1, 4, 9, 16, 25, 36, 49, 64, 81, 100]\n",
            "[1, 4, 9, 16, 25, 36, 49, 64, 81, 100]\n"
          ]
        }
      ]
    },
    {
      "cell_type": "code",
      "source": [
        "from random import random\n",
        "array =[random() for i in range(1,11)]\n",
        "print(array)"
      ],
      "metadata": {
        "colab": {
          "base_uri": "https://localhost:8080/"
        },
        "id": "v6XuFXDMzkWu",
        "outputId": "31ef50e3-c307-45f7-d97a-89a050968ad7"
      },
      "execution_count": null,
      "outputs": [
        {
          "output_type": "stream",
          "name": "stdout",
          "text": [
            "[0.29086540577861575, 0.5569486643729507, 0.8367298675545258, 0.038222764226918726, 0.38762576923464054, 0.6570157305254535, 0.7242430880304044, 0.23556831039406168, 0.5341463523718839, 0.8446748679750243]\n"
          ]
        }
      ]
    },
    {
      "cell_type": "code",
      "source": [],
      "metadata": {
        "id": "XY3Q8sqfZpPc"
      },
      "execution_count": null,
      "outputs": []
    }
  ]
}